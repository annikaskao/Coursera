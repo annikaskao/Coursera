{
 "cells": [
  {
   "cell_type": "markdown",
   "id": "6faefa3f",
   "metadata": {},
   "source": [
    "# My Jupyter Notebook on IBM Watson Studio"
   ]
  },
  {
   "cell_type": "markdown",
   "id": "7ca158a9",
   "metadata": {},
   "source": [
    "## Annika Kao\n",
    "Data Analyst"
   ]
  },
  {
   "cell_type": "markdown",
   "id": "97a8fb43",
   "metadata": {},
   "source": [
    "*I am interested in data science because data is a powerful tool that allows us to leveage data to provide important insights in pretty much any industry. I am excited to better my data science skills and see what else this sepcialization has to offer!*"
   ]
  },
  {
   "cell_type": "markdown",
   "id": "ca7dcdb4",
   "metadata": {},
   "source": [
    "### Heres my FizzBuzz code. This will output Fizz for all multiples of 3 and Buzz for multiples of 5 and for multiples for 3 and 5 it will return FizzBuzz. "
   ]
  },
  {
   "cell_type": "code",
   "execution_count": 3,
   "id": "bf147672",
   "metadata": {},
   "outputs": [
    {
     "name": "stdout",
     "output_type": "stream",
     "text": [
      "1\n",
      "2\n",
      "Fizz\n",
      "4\n",
      "Buzz\n",
      "Fizz\n",
      "7\n",
      "8\n",
      "Fizz\n",
      "Buzz\n",
      "11\n",
      "Fizz\n",
      "13\n",
      "14\n",
      "Fizz Buzz\n",
      "16\n",
      "17\n",
      "Fizz\n",
      "19\n",
      "Buzz\n",
      "Fizz\n",
      "22\n",
      "23\n",
      "Fizz\n",
      "Buzz\n",
      "26\n",
      "Fizz\n",
      "28\n",
      "29\n",
      "Fizz Buzz\n",
      "31\n",
      "32\n",
      "Fizz\n",
      "34\n",
      "Buzz\n",
      "Fizz\n",
      "37\n",
      "38\n",
      "Fizz\n",
      "Buzz\n",
      "41\n",
      "Fizz\n",
      "43\n",
      "44\n",
      "Fizz Buzz\n",
      "46\n",
      "47\n",
      "Fizz\n",
      "49\n",
      "Buzz\n",
      "Fizz\n",
      "52\n",
      "53\n",
      "Fizz\n",
      "Buzz\n",
      "56\n",
      "Fizz\n",
      "58\n",
      "59\n",
      "Fizz Buzz\n",
      "61\n",
      "62\n",
      "Fizz\n",
      "64\n",
      "Buzz\n",
      "Fizz\n",
      "67\n",
      "68\n",
      "Fizz\n",
      "Buzz\n",
      "71\n",
      "Fizz\n",
      "73\n",
      "74\n",
      "Fizz Buzz\n",
      "76\n",
      "77\n",
      "Fizz\n",
      "79\n",
      "Buzz\n",
      "Fizz\n",
      "82\n",
      "83\n",
      "Fizz\n",
      "Buzz\n",
      "86\n",
      "Fizz\n",
      "88\n",
      "89\n",
      "Fizz Buzz\n",
      "91\n",
      "92\n",
      "Fizz\n",
      "94\n",
      "Buzz\n",
      "Fizz\n",
      "97\n",
      "98\n",
      "Fizz\n",
      "Buzz\n"
     ]
    }
   ],
   "source": [
    "def fizzbuzz(i):\n",
    "    \n",
    "    for i in range(1,101):\n",
    "        if not i % 3:\n",
    "            if not i % 5:\n",
    "                print('Fizz Buzz')\n",
    "            else:\n",
    "                print('Fizz')\n",
    "        elif not i % 5:\n",
    "            print('Buzz')\n",
    "        else:\n",
    "            print(i)\n",
    "\n",
    "fizzbuzz(100)\n"
   ]
  },
  {
   "cell_type": "markdown",
   "id": "4ecb58bf",
   "metadata": {},
   "source": [
    "**\n",
    "\n",
    "* Domesticated\n",
    "* Wild \n",
    "\n",
    "***\n",
    "\n",
    "1. Dog\n",
    "2. Cat\n",
    "3. Elephant\n",
    "4. Wolf\n",
    "5. Tiger\n",
    "\n",
    "***\n",
    "\n",
    "Domesticated | Wild \n",
    ":------------:| :------------:\n",
    "Dog | Wolf\n",
    "Cat | Elephant\n",
    "| Tiger \n"
   ]
  },
  {
   "cell_type": "code",
   "execution_count": null,
   "id": "d90d0b2c",
   "metadata": {},
   "outputs": [],
   "source": []
  }
 ],
 "metadata": {
  "kernelspec": {
   "display_name": "Python 3",
   "language": "python",
   "name": "python3"
  },
  "language_info": {
   "codemirror_mode": {
    "name": "ipython",
    "version": 3
   },
   "file_extension": ".py",
   "mimetype": "text/x-python",
   "name": "python",
   "nbconvert_exporter": "python",
   "pygments_lexer": "ipython3",
   "version": "3.8.8"
  }
 },
 "nbformat": 4,
 "nbformat_minor": 5
}
